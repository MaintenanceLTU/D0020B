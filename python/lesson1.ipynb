{
 "cells": [
  {
   "cell_type": "markdown",
   "id": "7261899a-86fc-4e09-9ecf-dd3897aeef3e",
   "metadata": {},
   "source": [
    "# Chapter 1\n",
    "## Arithmetic operations"
   ]
  },
  {
   "cell_type": "code",
   "execution_count": 1,
   "id": "dcfc3322-d7de-4ecb-8313-c87bd6744fb2",
   "metadata": {},
   "outputs": [
    {
     "data": {
      "text/plain": [
       "2"
      ]
     },
     "execution_count": 1,
     "metadata": {},
     "output_type": "execute_result"
    }
   ],
   "source": [
    "1+1"
   ]
  },
  {
   "cell_type": "code",
   "execution_count": 2,
   "id": "672eb17a-ab8b-46ac-959f-66232b1f3589",
   "metadata": {},
   "outputs": [
    {
     "data": {
      "text/plain": [
       "49"
      ]
     },
     "execution_count": 2,
     "metadata": {},
     "output_type": "execute_result"
    }
   ],
   "source": [
    "7**2"
   ]
  },
  {
   "cell_type": "code",
   "execution_count": 3,
   "id": "b3f76bfc-44be-473b-88be-b5eafd3a1279",
   "metadata": {},
   "outputs": [
    {
     "data": {
      "text/plain": [
       "42.5"
      ]
     },
     "execution_count": 3,
     "metadata": {},
     "output_type": "execute_result"
    }
   ],
   "source": [
    "85/2"
   ]
  },
  {
   "cell_type": "code",
   "execution_count": 4,
   "id": "d3f71ed0-e40c-499a-a026-371b820fc772",
   "metadata": {},
   "outputs": [
    {
     "data": {
      "text/plain": [
       "42"
      ]
     },
     "execution_count": 4,
     "metadata": {},
     "output_type": "execute_result"
    }
   ],
   "source": [
    "85//2"
   ]
  },
  {
   "cell_type": "code",
   "execution_count": 5,
   "id": "4f226474-2725-46f6-8822-1609a6b83291",
   "metadata": {},
   "outputs": [
    {
     "data": {
      "text/plain": [
       "5"
      ]
     },
     "execution_count": 5,
     "metadata": {},
     "output_type": "execute_result"
    }
   ],
   "source": [
    "7^2"
   ]
  },
  {
   "cell_type": "markdown",
   "id": "ccc2214e-52a3-4743-8af1-7e71157cf9fb",
   "metadata": {},
   "source": [
    "## Values and types"
   ]
  },
  {
   "cell_type": "code",
   "execution_count": 3,
   "id": "2c8e5352-2f2a-4c89-b2a5-c2a3dfd97d05",
   "metadata": {},
   "outputs": [
    {
     "data": {
      "text/plain": [
       "'Johan'"
      ]
     },
     "execution_count": 3,
     "metadata": {},
     "output_type": "execute_result"
    }
   ],
   "source": [
    "5 #integer\n",
    "4.5 #float\n",
    "'Johan' #string"
   ]
  },
  {
   "cell_type": "code",
   "execution_count": 8,
   "id": "89a2cca2-44b4-49fc-a7a3-9315ea44f426",
   "metadata": {},
   "outputs": [
    {
     "data": {
      "text/plain": [
       "int"
      ]
     },
     "execution_count": 8,
     "metadata": {},
     "output_type": "execute_result"
    }
   ],
   "source": [
    "type(2)"
   ]
  },
  {
   "cell_type": "code",
   "execution_count": 9,
   "id": "b2750d0f-8302-4afd-8c4b-bad7a83951f1",
   "metadata": {},
   "outputs": [
    {
     "data": {
      "text/plain": [
       "float"
      ]
     },
     "execution_count": 9,
     "metadata": {},
     "output_type": "execute_result"
    }
   ],
   "source": [
    "type(2.5)"
   ]
  },
  {
   "cell_type": "code",
   "execution_count": 10,
   "id": "35d5793e-89ff-4e84-b821-c7439bd49ba0",
   "metadata": {},
   "outputs": [
    {
     "data": {
      "text/plain": [
       "43"
      ]
     },
     "execution_count": 10,
     "metadata": {},
     "output_type": "execute_result"
    }
   ],
   "source": [
    "round(42.9)"
   ]
  },
  {
   "cell_type": "code",
   "execution_count": 11,
   "id": "b828cc37-2e2f-41c7-90cd-23dcbb380800",
   "metadata": {},
   "outputs": [
    {
     "data": {
      "text/plain": [
       "42"
      ]
     },
     "execution_count": 11,
     "metadata": {},
     "output_type": "execute_result"
    }
   ],
   "source": [
    "int(42.9)"
   ]
  },
  {
   "cell_type": "code",
   "execution_count": 14,
   "id": "25ffff98-9342-4fa9-a6db-b94d4bec1078",
   "metadata": {},
   "outputs": [
    {
     "data": {
      "text/plain": [
       "bool"
      ]
     },
     "execution_count": 14,
     "metadata": {},
     "output_type": "execute_result"
    }
   ],
   "source": [
    "type(True)"
   ]
  },
  {
   "cell_type": "markdown",
   "id": "1c01c803-ac8f-4915-a47f-a40e66d969bc",
   "metadata": {},
   "source": [
    "## Expression"
   ]
  },
  {
   "cell_type": "code",
   "execution_count": 28,
   "id": "99bde865-5299-4bc1-9c98-10a7cf5be3dc",
   "metadata": {},
   "outputs": [
    {
     "data": {
      "text/plain": [
       "11"
      ]
     },
     "execution_count": 28,
     "metadata": {},
     "output_type": "execute_result"
    }
   ],
   "source": [
    "3+2*4"
   ]
  },
  {
   "cell_type": "code",
   "execution_count": 4,
   "id": "490c9e59-e351-45db-8d71-47f7ffea329d",
   "metadata": {},
   "outputs": [
    {
     "data": {
      "text/plain": [
       "'JohanOdelius'"
      ]
     },
     "execution_count": 4,
     "metadata": {},
     "output_type": "execute_result"
    }
   ],
   "source": [
    "'Johan'+'Odelius'"
   ]
  },
  {
   "cell_type": "markdown",
   "id": "26f14136-aae8-4137-8cfe-5543d91155bb",
   "metadata": {},
   "source": [
    "# Chapter 2\n",
    "## Variables"
   ]
  },
  {
   "cell_type": "code",
   "execution_count": 15,
   "id": "17c9323e-85f7-4d71-b662-d3c0459fde85",
   "metadata": {},
   "outputs": [],
   "source": [
    "temperature = 20 #temperature degress Celcius"
   ]
  },
  {
   "cell_type": "code",
   "execution_count": 16,
   "id": "83a0f2de-cf20-4037-ab4c-387ffa952cd9",
   "metadata": {},
   "outputs": [
    {
     "data": {
      "text/plain": [
       "20"
      ]
     },
     "execution_count": 16,
     "metadata": {},
     "output_type": "execute_result"
    }
   ],
   "source": [
    "temperature"
   ]
  },
  {
   "cell_type": "code",
   "execution_count": 17,
   "id": "7e910e52-724e-4148-9c5c-ed438ffb8661",
   "metadata": {},
   "outputs": [
    {
     "ename": "<class 'NameError'>",
     "evalue": "name 'Temperature' is not defined",
     "output_type": "error",
     "traceback": [
      "\u001b[0;31m---------------------------------------------------------------------------\u001b[0m",
      "\u001b[0;31mNameError\u001b[0m                                 Traceback (most recent call last)",
      "Cell \u001b[0;32mIn[17], line 1\u001b[0m\n\u001b[0;32m----> 1\u001b[0m \u001b[43mTemperature\u001b[49m\n",
      "\u001b[0;31mNameError\u001b[0m: name 'Temperature' is not defined"
     ]
    }
   ],
   "source": [
    "Temperature"
   ]
  },
  {
   "cell_type": "code",
   "execution_count": 18,
   "id": "8a0c7821-f14f-4485-9cd6-8a2f2e3d1832",
   "metadata": {},
   "outputs": [
    {
     "data": {
      "text/plain": [
       "23"
      ]
     },
     "execution_count": 18,
     "metadata": {},
     "output_type": "execute_result"
    }
   ],
   "source": [
    "temperature+3"
   ]
  },
  {
   "cell_type": "code",
   "execution_count": 19,
   "id": "fdb89e3b-dd66-47be-a627-0e3dfb04a330",
   "metadata": {},
   "outputs": [
    {
     "data": {
      "text/plain": [
       "10.0"
      ]
     },
     "execution_count": 19,
     "metadata": {},
     "output_type": "execute_result"
    }
   ],
   "source": [
    "temperature/2"
   ]
  },
  {
   "cell_type": "code",
   "execution_count": 20,
   "id": "2b744855-16a1-47fa-812d-5f0d807196f3",
   "metadata": {},
   "outputs": [
    {
     "data": {
      "text/plain": [
       "int"
      ]
     },
     "execution_count": 20,
     "metadata": {},
     "output_type": "execute_result"
    }
   ],
   "source": [
    "temperature = 20\n",
    "type(temperature)"
   ]
  },
  {
   "cell_type": "code",
   "execution_count": 21,
   "id": "805a4ea3-c05f-42d2-a258-629053432106",
   "metadata": {},
   "outputs": [
    {
     "data": {
      "text/plain": [
       "float"
      ]
     },
     "execution_count": 21,
     "metadata": {},
     "output_type": "execute_result"
    }
   ],
   "source": [
    "temperature = 20.0\n",
    "type(temperature)"
   ]
  },
  {
   "cell_type": "code",
   "execution_count": 23,
   "id": "69c19726-8416-4dfc-97ee-84f154986a8b",
   "metadata": {},
   "outputs": [
    {
     "data": {
      "text/plain": [
       "float"
      ]
     },
     "execution_count": 23,
     "metadata": {},
     "output_type": "execute_result"
    }
   ],
   "source": [
    "temperature = 20\n",
    "temperature = temperature + 1.1\n",
    "type(temperature)"
   ]
  },
  {
   "cell_type": "code",
   "execution_count": 24,
   "id": "e86453ac-8845-4257-b966-187c3d1f8749",
   "metadata": {},
   "outputs": [],
   "source": [
    "temperature = 20\n",
    "temperature += 1.1"
   ]
  },
  {
   "cell_type": "code",
   "execution_count": 25,
   "id": "e1f7b6be-d79c-42a0-92fc-d5a9fd4fffdf",
   "metadata": {},
   "outputs": [
    {
     "data": {
      "text/plain": [
       "21.1"
      ]
     },
     "execution_count": 25,
     "metadata": {},
     "output_type": "execute_result"
    }
   ],
   "source": [
    "temperature"
   ]
  },
  {
   "cell_type": "code",
   "execution_count": 26,
   "id": "422550a6-cdc0-4de9-8ad6-2548fa4d7737",
   "metadata": {},
   "outputs": [],
   "source": [
    "temperature1 = 20.1\n",
    "temperature2 = 12.3"
   ]
  },
  {
   "cell_type": "code",
   "execution_count": 27,
   "id": "eaa0319a-554b-44c1-ae97-e1e57846481f",
   "metadata": {},
   "outputs": [
    {
     "ename": "<class 'SyntaxError'>",
     "evalue": "invalid decimal literal (<ipython-input-27-783ee2361492>, line 1)",
     "output_type": "error",
     "traceback": [
      "\u001b[0;36m  Cell \u001b[0;32mIn[27], line 1\u001b[0;36m\u001b[0m\n\u001b[0;31m    1temperature = 2\u001b[0m\n\u001b[0m    ^\u001b[0m\n\u001b[0;31mSyntaxError\u001b[0m\u001b[0;31m:\u001b[0m invalid decimal literal\n"
     ]
    }
   ],
   "source": [
    "1temperature = 2"
   ]
  },
  {
   "cell_type": "markdown",
   "id": "17772ea6-9d07-40d8-bf21-6ce320f448af",
   "metadata": {},
   "source": [
    "## Import, expressions and statements"
   ]
  },
  {
   "cell_type": "code",
   "execution_count": 39,
   "id": "e060c260-9217-490e-9bed-b7ef3efd7051",
   "metadata": {},
   "outputs": [
    {
     "name": "stdout",
     "output_type": "stream",
     "text": [
      "Thea area of the circle is 113.1\n"
     ]
    }
   ],
   "source": [
    "#import math library\n",
    "import math \n",
    "# Compute area of a circle\n",
    "radius = 6\n",
    "area = radius**2 * math.pi\n",
    "print('Thea area of the circle is', round(area, 1))"
   ]
  },
  {
   "cell_type": "code",
   "execution_count": 40,
   "id": "59121926-dc6b-4daa-98c1-a82d43049c85",
   "metadata": {},
   "outputs": [
    {
     "name": "stdout",
     "output_type": "stream",
     "text": [
      "3.141592653589793\n"
     ]
    }
   ],
   "source": [
    "print(math.pi)"
   ]
  },
  {
   "cell_type": "code",
   "execution_count": null,
   "id": "56a43c06-d9bb-4e3f-98d2-5395f917d86a",
   "metadata": {},
   "outputs": [],
   "source": []
  }
 ],
 "metadata": {
  "kernelspec": {
   "display_name": "Python 3 (ipykernel)",
   "language": "python",
   "name": "python3"
  },
  "language_info": {
   "codemirror_mode": {
    "name": "ipython",
    "version": 3
   },
   "file_extension": ".py",
   "mimetype": "text/x-python",
   "name": "python",
   "nbconvert_exporter": "python",
   "pygments_lexer": "ipython3",
   "version": "3.11.5"
  }
 },
 "nbformat": 4,
 "nbformat_minor": 5
}
