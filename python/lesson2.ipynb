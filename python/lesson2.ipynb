{
 "cells": [
  {
   "cell_type": "markdown",
   "metadata": {},
   "source": [
    "# Chapter 3 and 6\n",
    "## Functions and return values"
   ]
  },
  {
   "cell_type": "code",
   "execution_count": 5,
   "metadata": {},
   "outputs": [
    {
     "name": "stdout",
     "output_type": "stream",
     "text": [
      "The area of the first circle is 28.3\n",
      "The area of the second circle is 50.3\n"
     ]
    }
   ],
   "source": [
    "import math\n",
    "\n",
    "#define a function that calculates the area of a circle\n",
    "def area_circle(radius):\n",
    "    area = radius**2 * math.pi\n",
    "    return area\n",
    "\n",
    "#Calcluate the area of a circle 1\n",
    "radius1 = 3 #mm\n",
    "area1 = area_circle(radius1)\n",
    "print('The area of the first circle is', round(area1, 1))\n",
    "\n",
    "radius2 = 4\n",
    "area2 = area_circle(radius2)\n",
    "print('The area of the second circle is', round(area2, 1))"
   ]
  },
  {
   "cell_type": "markdown",
   "metadata": {},
   "source": [
    "## Chapter 9\n",
    "# Lists"
   ]
  },
  {
   "cell_type": "code",
   "execution_count": 11,
   "metadata": {},
   "outputs": [
    {
     "name": "stdout",
     "output_type": "stream",
     "text": [
      "Lenght of list is 2\n",
      "The first element of the list is 3\n"
     ]
    }
   ],
   "source": [
    "# Create a list of radius\n",
    "radius = [3, 4]\n",
    "# Length of the list (how many elements are in the list)\n",
    "print('Lenght of list is', len(radius))\n",
    "\n",
    "print('The first element of the list is', radius[0])\n",
    "\n",
    "area1 = area_circle(radius[0])\n",
    "area2 = area_circle(radius[1])"
   ]
  },
  {
   "cell_type": "markdown",
   "metadata": {},
   "source": [
    "# Chapter 7\n",
    "## For-loop"
   ]
  },
  {
   "cell_type": "code",
   "execution_count": 16,
   "metadata": {},
   "outputs": [
    {
     "name": "stdout",
     "output_type": "stream",
     "text": [
      "Area for circle 1 is 28.274333882308138\n",
      "Area for circle 2 is 50.26548245743669\n"
     ]
    }
   ],
   "source": [
    "for i in range(len(radius)):\n",
    "    area = area_circle(radius[i])\n",
    "    print('Area for circle',i+1,'is',area)"
   ]
  },
  {
   "cell_type": "code",
   "execution_count": 23,
   "metadata": {},
   "outputs": [],
   "source": [
    "#Another way to use for loop direclty extract the elements out from a list\n",
    "for r in radius:\n",
    "    area = area_circle(r)\n"
   ]
  },
  {
   "cell_type": "markdown",
   "metadata": {},
   "source": [
    "# Chapter 5\n",
    "## Boolean expression, logical operators and if statements"
   ]
  },
  {
   "cell_type": "code",
   "execution_count": 35,
   "metadata": {},
   "outputs": [
    {
     "name": "stdout",
     "output_type": "stream",
     "text": [
      "x is zero\n"
     ]
    }
   ],
   "source": [
    "x = 0\n",
    "if x>0 and x<10:\n",
    "    print('x is a positive value less than 10')\n",
    "elif x==0:\n",
    "    print('x is zero')\n",
    "elif x<0:\n",
    "    print('x is negative')\n",
    "else:\n",
    "    print('x is greater or equal to 10')"
   ]
  },
  {
   "cell_type": "markdown",
   "metadata": {},
   "source": [
    "# Chapter 10\n",
    "## Dictionaries"
   ]
  },
  {
   "cell_type": "code",
   "execution_count": 38,
   "metadata": {},
   "outputs": [
    {
     "name": "stdout",
     "output_type": "stream",
     "text": [
      "10\n"
     ]
    }
   ],
   "source": [
    "sensor = 'mxl'\n",
    "temperatures = [5, 6.7, 3, 4.2] #degC\n",
    "ambient_temperature = 10 #degC\n",
    "\n",
    "# list\n",
    "measurement_list = [sensor, temperatures, ambient_temperature]\n",
    "# get the ambient temperature value from the list\n",
    "measurement_list[2]\n",
    "\n",
    "# dictionary\n",
    "measurement_dict = {\n",
    "    'sensor_type' : sensor, \n",
    "    'object_temperature' : temperatures,\n",
    "    'ambient_temperature' : ambient_temperature\n",
    "}\n",
    "# Get the ambient temperature value from the dict\n",
    "print(measurement_dict['ambient_temperature'])"
   ]
  },
  {
   "cell_type": "markdown",
   "metadata": {},
   "source": [
    "## Exercies\n",
    "# Compute the mean temperature"
   ]
  },
  {
   "cell_type": "code",
   "execution_count": 3,
   "metadata": {},
   "outputs": [
    {
     "name": "stdout",
     "output_type": "stream",
     "text": [
      "Option 1: Mean temperature is 4.725\n",
      "Option 2: Mean temperature is 4.725\n",
      "Option 3: Mean temperature is 4.725\n"
     ]
    }
   ],
   "source": [
    "# Define temperature values\n",
    "temperatures = [5, 6.7, 3, 4.2] #degC\n",
    "\n",
    "# Option 1: Import a library that contain a mean function\n",
    "import numpy as np\n",
    "mean_temperature = np.mean(temperatures)\n",
    "print('Option 1: Mean temperature is', mean_temperature)\n",
    "\n",
    "# Option 2: Use in-built function to sum values in a list\n",
    "mean_temperature = sum(temperatures)/len(temperatures)\n",
    "print('Option 2: Mean temperature is', mean_temperature)\n",
    "\n",
    "# Option 3: Do it from scratch using arthimetic operations\n",
    "sum_temperature = 0\n",
    "for i in range(len(temperatures)):\n",
    "    sum_temperature += temperatures[i]\n",
    "mean_temperature = sum_temperature / len(temperatures)\n",
    "print('Option 3: Mean temperature is', mean_temperature)\n"
   ]
  },
  {
   "cell_type": "code",
   "execution_count": null,
   "metadata": {},
   "outputs": [],
   "source": []
  }
 ],
 "metadata": {
  "kernelspec": {
   "display_name": "Python 3 (ipykernel)",
   "language": "python",
   "name": "python3"
  },
  "language_info": {
   "codemirror_mode": {
    "name": "ipython",
    "version": 3
   },
   "file_extension": ".py",
   "mimetype": "text/x-python",
   "name": "python",
   "nbconvert_exporter": "python",
   "pygments_lexer": "ipython3",
   "version": "3.11.5"
  }
 },
 "nbformat": 4,
 "nbformat_minor": 4
}
